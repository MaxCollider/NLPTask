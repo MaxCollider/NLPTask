{
 "cells": [
  {
   "cell_type": "code",
   "execution_count": 28,
   "id": "6811a8c8",
   "metadata": {},
   "outputs": [],
   "source": [
    "import numpy as np\n",
    "import pandas as pd\n",
    "from sklearn.metrics import accuracy_score\n",
    "from sklearn.metrics import precision_score, recall_score, roc_auc_score\n",
    "from sklearn.linear_model import LogisticRegression, SGDClassifier\n",
    "from sklearn.metrics import accuracy_score, roc_auc_score, f1_score\n",
    "from sklearn.ensemble import RandomForestClassifier, AdaBoostClassifier, GradientBoostingClassifier\n",
    "from sklearn.feature_extraction.text import TfidfVectorizer\n",
    "from sklearn.model_selection import train_test_split\n",
    "\n",
    "import string\n",
    "import nltk \n",
    "from nltk.corpus import stopwords\n",
    "from nltk.tokenize import word_tokenize\n",
    "from nltk.stem import WordNetLemmatizer"
   ]
  },
  {
   "cell_type": "code",
   "execution_count": 29,
   "id": "f0d92bff",
   "metadata": {},
   "outputs": [],
   "source": [
    "df = pd.read_csv(\"D:/Projects/MLTask/test_data.csv\")\n"
   ]
  },
  {
   "cell_type": "code",
   "execution_count": 30,
   "id": "1b3f6548",
   "metadata": {},
   "outputs": [
    {
     "name": "stderr",
     "output_type": "stream",
     "text": [
      "[nltk_data] Downloading package stopwords to\n",
      "[nltk_data]     C:\\Users\\Maxim\\AppData\\Roaming\\nltk_data...\n",
      "[nltk_data]   Package stopwords is already up-to-date!\n",
      "[nltk_data] Downloading package wordnet to\n",
      "[nltk_data]     C:\\Users\\Maxim\\AppData\\Roaming\\nltk_data...\n",
      "[nltk_data]   Package wordnet is already up-to-date!\n"
     ]
    }
   ],
   "source": [
    "nltk.download('stopwords')\n",
    "nltk.download('wordnet')\n",
    "lemmatizer = WordNetLemmatizer()"
   ]
  },
  {
   "cell_type": "code",
   "execution_count": 31,
   "id": "112a771c",
   "metadata": {},
   "outputs": [],
   "source": [
    "pd.options.display.max_rows = 1000\n",
    "df = df.assign(is_greet=0, is_bye=0, name=0, company=0)\n"
   ]
  },
  {
   "cell_type": "markdown",
   "id": "1c28eb26",
   "metadata": {},
   "source": [
    "Тут мы размечаем необходимые для выполнения условия реплики"
   ]
  },
  {
   "cell_type": "code",
   "execution_count": 49,
   "id": "bd1b5c22",
   "metadata": {},
   "outputs": [],
   "source": [
    "greets = [1,2, 109,110,165, 166,249,250,251, 358, 304] \n",
    "byes = [108,163, 300, 301, 335, 336, 478, 479]\n",
    "names = [3, 111,167, 251, 338]\n",
    "companies = [3, 111, 251]\n",
    "for i in greets:\n",
    "    df.at[i, 'is_greet'] = 1\n",
    "for i in byes:\n",
    "    df.at[i, 'is_bye'] = 1\n",
    "for i in names:\n",
    "    df.at[i, 'name'] = 1\n",
    "for i in companies:\n",
    "    df.at[i, 'company'] = 1"
   ]
  },
  {
   "cell_type": "code",
   "execution_count": 33,
   "id": "681a20d7",
   "metadata": {},
   "outputs": [],
   "source": [
    "r_stopwords = stopwords.words(\"russian\")\n",
    "r_stopwords.remove('до') # чтобы не ломало прощание \"до свидания\""
   ]
  },
  {
   "cell_type": "code",
   "execution_count": 34,
   "id": "7486164b",
   "metadata": {},
   "outputs": [],
   "source": [
    "def preproc(replica):\n",
    "    nopunc = [char for char in replica if char not in string.punctuation]\n",
    "    nopunc = ''.join(nopunc)\n",
    "    \n",
    "    no_bad_words = [word for word in nopunc.split() if word.lower() not in r_stopwords]\n",
    "    lemm_words = [lemmatizer.lemmatize(word) for word in no_bad_words]\n",
    "    lemm_words = ' '.join(lemm_words)\n",
    "    return lemm_words\n"
   ]
  },
  {
   "cell_type": "code",
   "execution_count": 35,
   "id": "3d958079",
   "metadata": {},
   "outputs": [],
   "source": [
    "df[\"text\"] = df[\"text\"].apply(lambda replica: preproc(replica))"
   ]
  },
  {
   "cell_type": "code",
   "execution_count": 36,
   "id": "67e07001",
   "metadata": {},
   "outputs": [
    {
     "name": "stdout",
     "output_type": "stream",
     "text": [
      "Train data: (336, 7) (336,)\n",
      "Test data: (144, 7) (144,)\n"
     ]
    }
   ],
   "source": [
    "\n",
    "data = df.copy()\n",
    "y = data['is_greet'].values\n",
    "data.drop(['is_greet'], axis=1, inplace=True)\n",
    "\n",
    "X_train, X_test, y_train, y_test = train_test_split(data, y, test_size=0.3, stratify=y)\n",
    "\n",
    "print(\"Train data:\",  X_train.shape, y_train.shape)\n",
    "print(\"Test data:\",  X_test.shape, y_test.shape)"
   ]
  },
  {
   "cell_type": "code",
   "execution_count": 37,
   "id": "dbe2f73b",
   "metadata": {},
   "outputs": [],
   "source": [
    "\n",
    "vectorizer = TfidfVectorizer(min_df=2)\n",
    "\n",
    "X_train_tfidf = vectorizer.fit_transform(X_train['text'])\n",
    "X_test_tfidf = vectorizer.transform(X_test['text'])"
   ]
  },
  {
   "cell_type": "code",
   "execution_count": 38,
   "id": "330b4582",
   "metadata": {},
   "outputs": [
    {
     "name": "stdout",
     "output_type": "stream",
     "text": [
      "f1-score:  1.0\n"
     ]
    },
    {
     "data": {
      "text/html": [
       "<div>\n",
       "<style scoped>\n",
       "    .dataframe tbody tr th:only-of-type {\n",
       "        vertical-align: middle;\n",
       "    }\n",
       "\n",
       "    .dataframe tbody tr th {\n",
       "        vertical-align: top;\n",
       "    }\n",
       "\n",
       "    .dataframe thead th {\n",
       "        text-align: right;\n",
       "    }\n",
       "</style>\n",
       "<table border=\"1\" class=\"dataframe\">\n",
       "  <thead>\n",
       "    <tr style=\"text-align: right;\">\n",
       "      <th></th>\n",
       "      <th>dlg_id</th>\n",
       "      <th>line_n</th>\n",
       "      <th>role</th>\n",
       "      <th>text</th>\n",
       "      <th>is_bye</th>\n",
       "      <th>name</th>\n",
       "      <th>company</th>\n",
       "      <th>is_greet</th>\n",
       "    </tr>\n",
       "  </thead>\n",
       "  <tbody>\n",
       "    <tr>\n",
       "      <th>166</th>\n",
       "      <td>2</td>\n",
       "      <td>2</td>\n",
       "      <td>manager</td>\n",
       "      <td>Алло здравствуйте</td>\n",
       "      <td>0</td>\n",
       "      <td>0</td>\n",
       "      <td>0</td>\n",
       "      <td>1</td>\n",
       "    </tr>\n",
       "    <tr>\n",
       "      <th>2</th>\n",
       "      <td>0</td>\n",
       "      <td>2</td>\n",
       "      <td>client</td>\n",
       "      <td>Добрый день</td>\n",
       "      <td>0</td>\n",
       "      <td>0</td>\n",
       "      <td>0</td>\n",
       "      <td>1</td>\n",
       "    </tr>\n",
       "    <tr>\n",
       "      <th>304</th>\n",
       "      <td>4</td>\n",
       "      <td>2</td>\n",
       "      <td>client</td>\n",
       "      <td>Добрый</td>\n",
       "      <td>0</td>\n",
       "      <td>0</td>\n",
       "      <td>0</td>\n",
       "      <td>1</td>\n",
       "    </tr>\n",
       "  </tbody>\n",
       "</table>\n",
       "</div>"
      ],
      "text/plain": [
       "     dlg_id  line_n     role               text  is_bye  name  company  \\\n",
       "166       2       2  manager  Алло здравствуйте       0     0        0   \n",
       "2         0       2   client        Добрый день       0     0        0   \n",
       "304       4       2   client             Добрый       0     0        0   \n",
       "\n",
       "     is_greet  \n",
       "166         1  \n",
       "2           1  \n",
       "304         1  "
      ]
     },
     "execution_count": 38,
     "metadata": {},
     "output_type": "execute_result"
    }
   ],
   "source": [
    "\n",
    "clf = GradientBoostingClassifier()\n",
    "clf.fit(X_train_tfidf, y_train)\n",
    "\n",
    "y_pred = clf.predict(X_test_tfidf) #prediction from model\n",
    "print('f1-score: ', f1_score(y_test, y_pred)) \n",
    "data = X_test.assign(is_greet=y_pred)\n",
    "data[data[\"is_greet\"] == 1]"
   ]
  },
  {
   "cell_type": "markdown",
   "id": "f5abf8a3",
   "metadata": {},
   "source": [
    "Видно, что наша модель нашла все приветствия на тестовой выборке"
   ]
  },
  {
   "cell_type": "markdown",
   "id": "afab7a70",
   "metadata": {},
   "source": [
    "Теперь для is_bye"
   ]
  },
  {
   "cell_type": "code",
   "execution_count": 39,
   "id": "63a2710e",
   "metadata": {},
   "outputs": [
    {
     "name": "stdout",
     "output_type": "stream",
     "text": [
      "Train data: (360, 7) (360,)\n",
      "Test data: (120, 7) (120,)\n"
     ]
    }
   ],
   "source": [
    "data = df.copy()\n",
    "y = data['is_bye'].values\n",
    "data.drop(['is_bye'], axis=1, inplace=True)\n",
    "\n",
    "X_train, X_test, y_train, y_test = train_test_split(data, y, test_size=0.25, stratify=y)\n",
    "\n",
    "print(\"Train data:\",  X_train.shape, y_train.shape)\n",
    "print(\"Test data:\",  X_test.shape, y_test.shape)"
   ]
  },
  {
   "cell_type": "code",
   "execution_count": 40,
   "id": "07d7c312",
   "metadata": {},
   "outputs": [],
   "source": [
    "vectorizer = TfidfVectorizer(min_df=2)\n",
    "\n",
    "X_train_tfidf = vectorizer.fit_transform(X_train['text'])\n",
    "X_test_tfidf = vectorizer.transform(X_test['text'])\n"
   ]
  },
  {
   "cell_type": "code",
   "execution_count": 41,
   "id": "82135596",
   "metadata": {},
   "outputs": [
    {
     "name": "stdout",
     "output_type": "stream",
     "text": [
      "f1-score:  1.0\n"
     ]
    },
    {
     "data": {
      "text/html": [
       "<div>\n",
       "<style scoped>\n",
       "    .dataframe tbody tr th:only-of-type {\n",
       "        vertical-align: middle;\n",
       "    }\n",
       "\n",
       "    .dataframe tbody tr th {\n",
       "        vertical-align: top;\n",
       "    }\n",
       "\n",
       "    .dataframe thead th {\n",
       "        text-align: right;\n",
       "    }\n",
       "</style>\n",
       "<table border=\"1\" class=\"dataframe\">\n",
       "  <thead>\n",
       "    <tr style=\"text-align: right;\">\n",
       "      <th></th>\n",
       "      <th>dlg_id</th>\n",
       "      <th>line_n</th>\n",
       "      <th>role</th>\n",
       "      <th>text</th>\n",
       "      <th>is_greet</th>\n",
       "      <th>name</th>\n",
       "      <th>company</th>\n",
       "      <th>is_bye</th>\n",
       "    </tr>\n",
       "  </thead>\n",
       "  <tbody>\n",
       "    <tr>\n",
       "      <th>301</th>\n",
       "      <td>3</td>\n",
       "      <td>52</td>\n",
       "      <td>client</td>\n",
       "      <td>до свидания</td>\n",
       "      <td>0</td>\n",
       "      <td>0</td>\n",
       "      <td>0</td>\n",
       "      <td>1</td>\n",
       "    </tr>\n",
       "    <tr>\n",
       "      <th>479</th>\n",
       "      <td>5</td>\n",
       "      <td>142</td>\n",
       "      <td>manager</td>\n",
       "      <td>до свидания хорошего вечера</td>\n",
       "      <td>0</td>\n",
       "      <td>0</td>\n",
       "      <td>0</td>\n",
       "      <td>1</td>\n",
       "    </tr>\n",
       "  </tbody>\n",
       "</table>\n",
       "</div>"
      ],
      "text/plain": [
       "     dlg_id  line_n     role                         text  is_greet  name  \\\n",
       "301       3      52   client                  до свидания         0     0   \n",
       "479       5     142  manager  до свидания хорошего вечера         0     0   \n",
       "\n",
       "     company  is_bye  \n",
       "301        0       1  \n",
       "479        0       1  "
      ]
     },
     "execution_count": 41,
     "metadata": {},
     "output_type": "execute_result"
    }
   ],
   "source": [
    "from sklearn.ensemble import BaggingClassifier\n",
    "clf = GradientBoostingClassifier()\n",
    "clf.fit(X_train_tfidf, y_train)\n",
    "\n",
    "y_pred = clf.predict(X_test_tfidf) \n",
    "print('f1-score: ', f1_score(y_test, y_pred)) \n",
    "data = X_test.assign(is_bye=y_pred)\n",
    "data[data[\"is_bye\"] == 1]"
   ]
  },
  {
   "cell_type": "markdown",
   "id": "43bbb818",
   "metadata": {},
   "source": [
    "Для имени менеджера"
   ]
  },
  {
   "cell_type": "code",
   "execution_count": 42,
   "id": "7912b473",
   "metadata": {},
   "outputs": [
    {
     "name": "stdout",
     "output_type": "stream",
     "text": [
      "Train data: (384, 7) (384,)\n",
      "Test data: (96, 7) (96,)\n"
     ]
    }
   ],
   "source": [
    "data = df.copy()\n",
    "y = data['name'].values\n",
    "data.drop(['name'], axis=1, inplace=True)\n",
    "\n",
    "X_train, X_test, y_train, y_test = train_test_split(data, y, test_size=0.20, stratify=y)\n",
    "\n",
    "print(\"Train data:\",  X_train.shape, y_train.shape)\n",
    "print(\"Test data:\",  X_test.shape, y_test.shape)"
   ]
  },
  {
   "cell_type": "code",
   "execution_count": 43,
   "id": "1857eaee",
   "metadata": {},
   "outputs": [],
   "source": [
    "vectorizer = TfidfVectorizer(min_df=2)\n",
    "\n",
    "X_train_tfidf = vectorizer.fit_transform(X_train['text'])\n",
    "X_test_tfidf = vectorizer.transform(X_test['text'])\n"
   ]
  },
  {
   "cell_type": "code",
   "execution_count": 44,
   "id": "02bcb73e",
   "metadata": {},
   "outputs": [
    {
     "name": "stdout",
     "output_type": "stream",
     "text": [
      "f1-score:  1.0\n"
     ]
    },
    {
     "data": {
      "text/html": [
       "<div>\n",
       "<style scoped>\n",
       "    .dataframe tbody tr th:only-of-type {\n",
       "        vertical-align: middle;\n",
       "    }\n",
       "\n",
       "    .dataframe tbody tr th {\n",
       "        vertical-align: top;\n",
       "    }\n",
       "\n",
       "    .dataframe thead th {\n",
       "        text-align: right;\n",
       "    }\n",
       "</style>\n",
       "<table border=\"1\" class=\"dataframe\">\n",
       "  <thead>\n",
       "    <tr style=\"text-align: right;\">\n",
       "      <th></th>\n",
       "      <th>dlg_id</th>\n",
       "      <th>line_n</th>\n",
       "      <th>role</th>\n",
       "      <th>text</th>\n",
       "      <th>is_greet</th>\n",
       "      <th>is_bye</th>\n",
       "      <th>company</th>\n",
       "      <th>name</th>\n",
       "    </tr>\n",
       "  </thead>\n",
       "  <tbody>\n",
       "    <tr>\n",
       "      <th>111</th>\n",
       "      <td>1</td>\n",
       "      <td>2</td>\n",
       "      <td>manager</td>\n",
       "      <td>зовут ангелина компания диджитал бизнес звоню ...</td>\n",
       "      <td>0</td>\n",
       "      <td>0</td>\n",
       "      <td>1</td>\n",
       "      <td>1</td>\n",
       "    </tr>\n",
       "  </tbody>\n",
       "</table>\n",
       "</div>"
      ],
      "text/plain": [
       "     dlg_id  line_n     role  \\\n",
       "111       1       2  manager   \n",
       "\n",
       "                                                  text  is_greet  is_bye  \\\n",
       "111  зовут ангелина компания диджитал бизнес звоню ...         0       0   \n",
       "\n",
       "     company  name  \n",
       "111        1     1  "
      ]
     },
     "execution_count": 44,
     "metadata": {},
     "output_type": "execute_result"
    }
   ],
   "source": [
    "\n",
    "clf = GradientBoostingClassifier()\n",
    "clf.fit(X_train_tfidf, y_train)\n",
    "\n",
    "y_pred = clf.predict(X_test_tfidf) \n",
    "print('f1-score: ', f1_score(y_test, y_pred)) \n",
    "data = X_test.assign(name=y_pred)\n",
    "data[data[\"name\"] == 1]"
   ]
  },
  {
   "cell_type": "markdown",
   "id": "5f342a0c",
   "metadata": {},
   "source": [
    "Для имени компании"
   ]
  },
  {
   "cell_type": "code",
   "execution_count": 45,
   "id": "59882bfb",
   "metadata": {},
   "outputs": [
    {
     "name": "stdout",
     "output_type": "stream",
     "text": [
      "Train data: (336, 7) (336,)\n",
      "Test data: (144, 7) (144,)\n"
     ]
    }
   ],
   "source": [
    "data = df.copy()\n",
    "y = data['name'].values\n",
    "data.drop(['name'], axis=1, inplace=True)\n",
    "\n",
    "X_train, X_test, y_train, y_test = train_test_split(data, y, test_size=0.3, stratify=y)\n",
    "\n",
    "print(\"Train data:\",  X_train.shape, y_train.shape)\n",
    "print(\"Test data:\",  X_test.shape, y_test.shape)"
   ]
  },
  {
   "cell_type": "code",
   "execution_count": 46,
   "id": "dc960aaa",
   "metadata": {},
   "outputs": [],
   "source": [
    "vectorizer = TfidfVectorizer(min_df=2)\n",
    "\n",
    "X_train_tfidf = vectorizer.fit_transform(X_train['text'])\n",
    "X_test_tfidf = vectorizer.transform(X_test['text'])"
   ]
  },
  {
   "cell_type": "code",
   "execution_count": 47,
   "id": "6b4ddf86",
   "metadata": {},
   "outputs": [
    {
     "name": "stdout",
     "output_type": "stream",
     "text": [
      "f1-score:  1.0\n"
     ]
    },
    {
     "data": {
      "text/html": [
       "<div>\n",
       "<style scoped>\n",
       "    .dataframe tbody tr th:only-of-type {\n",
       "        vertical-align: middle;\n",
       "    }\n",
       "\n",
       "    .dataframe tbody tr th {\n",
       "        vertical-align: top;\n",
       "    }\n",
       "\n",
       "    .dataframe thead th {\n",
       "        text-align: right;\n",
       "    }\n",
       "</style>\n",
       "<table border=\"1\" class=\"dataframe\">\n",
       "  <thead>\n",
       "    <tr style=\"text-align: right;\">\n",
       "      <th></th>\n",
       "      <th>dlg_id</th>\n",
       "      <th>line_n</th>\n",
       "      <th>role</th>\n",
       "      <th>text</th>\n",
       "      <th>is_greet</th>\n",
       "      <th>is_bye</th>\n",
       "      <th>company</th>\n",
       "      <th>name</th>\n",
       "    </tr>\n",
       "  </thead>\n",
       "  <tbody>\n",
       "    <tr>\n",
       "      <th>167</th>\n",
       "      <td>2</td>\n",
       "      <td>3</td>\n",
       "      <td>manager</td>\n",
       "      <td>зовут ангелина компания диджитал бизнес звоню ...</td>\n",
       "      <td>0</td>\n",
       "      <td>0</td>\n",
       "      <td>0</td>\n",
       "      <td>1</td>\n",
       "    </tr>\n",
       "  </tbody>\n",
       "</table>\n",
       "</div>"
      ],
      "text/plain": [
       "     dlg_id  line_n     role  \\\n",
       "167       2       3  manager   \n",
       "\n",
       "                                                  text  is_greet  is_bye  \\\n",
       "167  зовут ангелина компания диджитал бизнес звоню ...         0       0   \n",
       "\n",
       "     company  name  \n",
       "167        0     1  "
      ]
     },
     "execution_count": 47,
     "metadata": {},
     "output_type": "execute_result"
    }
   ],
   "source": [
    "from sklearn.ensemble import BaggingClassifier\n",
    "clf = GradientBoostingClassifier()\n",
    "clf.fit(X_train_tfidf, y_train)\n",
    "\n",
    "y_pred = clf.predict(X_test_tfidf) #prediction from model\n",
    "print('f1-score: ', f1_score(y_test, y_pred)) \n",
    "data = X_test.assign(name=y_pred)\n",
    "data[data[\"name\"] == 1]"
   ]
  },
  {
   "cell_type": "markdown",
   "id": "1b909177",
   "metadata": {},
   "source": [
    "Теперь проверим, что в каждом диалоге есть приветствие и прощание"
   ]
  },
  {
   "cell_type": "code",
   "execution_count": 48,
   "id": "c73c85d3",
   "metadata": {},
   "outputs": [
    {
     "name": "stdout",
     "output_type": "stream",
     "text": [
      "В диалгогах с этими номерами, менеджер поздоровался и попрощался: 0 1 3\n"
     ]
    }
   ],
   "source": [
    "# df[\"dlg_id\"].unique()\n",
    "hi = df[df[\"role\"] == \"manager\"].groupby(by='dlg_id')['is_greet'].sum()\n",
    "bye = df[df[\"role\"] == \"manager\"].groupby(by='dlg_id')['is_bye'].sum()\n",
    "dials = np.logical_and(hi, bye)\n",
    "print(\"В диалгогах с этими номерами, менеджер поздоровался и попрощался:\", *dials[dials].index)"
   ]
  },
  {
   "cell_type": "markdown",
   "id": "03be7084",
   "metadata": {},
   "source": [
    "Под конец хотелось бы заметить, что данные модели всегда хорошо работают, так как данных по приветствию\\прощанию не очень много, и они не успевают нормально научиться("
   ]
  },
  {
   "cell_type": "code",
   "execution_count": null,
   "id": "e3c000e4",
   "metadata": {},
   "outputs": [],
   "source": []
  },
  {
   "cell_type": "code",
   "execution_count": null,
   "id": "f4801a2f",
   "metadata": {},
   "outputs": [],
   "source": []
  }
 ],
 "metadata": {
  "kernelspec": {
   "display_name": "Python 3 (ipykernel)",
   "language": "python",
   "name": "python3"
  },
  "language_info": {
   "codemirror_mode": {
    "name": "ipython",
    "version": 3
   },
   "file_extension": ".py",
   "mimetype": "text/x-python",
   "name": "python",
   "nbconvert_exporter": "python",
   "pygments_lexer": "ipython3",
   "version": "3.9.7"
  }
 },
 "nbformat": 4,
 "nbformat_minor": 5
}
